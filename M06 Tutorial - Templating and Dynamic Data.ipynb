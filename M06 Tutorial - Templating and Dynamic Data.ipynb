{
 "cells": [
  {
   "cell_type": "code",
   "execution_count": 1,
   "id": "5a3e197d",
   "metadata": {},
   "outputs": [],
   "source": [
    "#Jordy Jordan \n",
    "#12/01/2022\n",
    "\n",
    "#import everything \n",
    "from datetime import *\n",
    "from dateutil.relativedelta import * #built in library \n",
    "from dateutil.parser import * #from the book https://labix.org/python-dateutil\n",
    "import calendar, time, random, multiprocessing, os, hellopo, datetime #imports"
   ]
  },
  {
   "cell_type": "code",
   "execution_count": 2,
   "id": "a4bd1d62",
   "metadata": {},
   "outputs": [
    {
     "data": {
      "text/plain": [
       "10"
      ]
     },
     "execution_count": 2,
     "metadata": {},
     "output_type": "execute_result"
    }
   ],
   "source": [
    "#13.1 WRITE TODAYS DATE TO THE TEXT FILE\n",
    "TODAY = date.today()#getting todays date\n",
    "file = open(\"today.txt\", \"w\")  # writing to the file\n",
    "file.write(str(TODAY)) #actual writing in the file"
   ]
  },
  {
   "cell_type": "code",
   "execution_count": 3,
   "id": "b252fc8d",
   "metadata": {},
   "outputs": [],
   "source": [
    "file.close() #close the file"
   ]
  },
  {
   "cell_type": "code",
   "execution_count": 4,
   "id": "a44987da",
   "metadata": {},
   "outputs": [
    {
     "name": "stdout",
     "output_type": "stream",
     "text": [
      "2022-12-01\n"
     ]
    }
   ],
   "source": [
    "#13.2 READ THE TEXT FILE\n",
    "#open a file that has only one line\n",
    "with open('today.txt', 'r') as file: # read the file\n",
    "    today_string = file.read() # store the date on a string\n",
    "    print(today_string) # print the string"
   ]
  },
  {
   "cell_type": "code",
   "execution_count": 5,
   "id": "a90e4554",
   "metadata": {},
   "outputs": [],
   "source": [
    "file.close() #close the file"
   ]
  },
  {
   "cell_type": "code",
   "execution_count": 6,
   "id": "294bb102",
   "metadata": {},
   "outputs": [],
   "source": [
    "#13.3 PARCING\n",
    "with open('today.txt', 'r') as file:\n",
    "    today_string = file.read()"
   ]
  },
  {
   "cell_type": "code",
   "execution_count": 7,
   "id": "f0b7886b",
   "metadata": {},
   "outputs": [
    {
     "name": "stdout",
     "output_type": "stream",
     "text": [
      "Wihtout parse:  2022-12-01\n",
      "After parse:  2022-12-01 00:00:00\n"
     ]
    }
   ],
   "source": [
    "print('Wihtout parse: ', today_string) \n",
    "today = parse(today_string) \n",
    "print('After parse: ', today) "
   ]
  },
  {
   "cell_type": "code",
   "execution_count": 8,
   "id": "8f177d06",
   "metadata": {},
   "outputs": [],
   "source": [
    "file.close() #close the file"
   ]
  },
  {
   "cell_type": "code",
   "execution_count": 10,
   "id": "389033a4",
   "metadata": {},
   "outputs": [
    {
     "name": "stdout",
     "output_type": "stream",
     "text": [
      "Wait a random number: 0.16575533856484626\n",
      "CURRENT TIME:  2022-12-01 14:33:49.171150 \n",
      "\n",
      "Wait a random number: 0.5671434060615776\n",
      "CURRENT TIME:  2022-12-01 14:33:49.745898 \n",
      "\n",
      "Wait a random number: 0.7159109814826312\n",
      "CURRENT TIME:  2022-12-01 14:33:50.465118 \n",
      "\n"
     ]
    }
   ],
   "source": [
    "#15.1  Use multiprocessing to create three separate processes\n",
    "process1 = hellopo.process()\n",
    "process2 = hellopo.process()\n",
    "process3 = hellopo.process()\n",
    "\n",
    "if __name__==\"__main__\":\n",
    "    \n",
    "    p1 = multiprocessing.Process(target=process1)\n",
    "    p2 = multiprocessing.Process(target=process2)\n",
    "    p3 = multiprocessing.Process(target=process3)\n",
    "\n",
    "    p1.start()\n",
    "    p2.start()\n",
    "    p3.start()\n",
    "\n",
    "    p1.join()\n",
    "    p2.join()\n",
    "    p3.join()"
   ]
  }
 ],
 "metadata": {
  "kernelspec": {
   "display_name": "Python 3 (ipykernel)",
   "language": "python",
   "name": "python3"
  },
  "language_info": {
   "codemirror_mode": {
    "name": "ipython",
    "version": 3
   },
   "file_extension": ".py",
   "mimetype": "text/x-python",
   "name": "python",
   "nbconvert_exporter": "python",
   "pygments_lexer": "ipython3",
   "version": "3.9.13"
  }
 },
 "nbformat": 4,
 "nbformat_minor": 5
}
